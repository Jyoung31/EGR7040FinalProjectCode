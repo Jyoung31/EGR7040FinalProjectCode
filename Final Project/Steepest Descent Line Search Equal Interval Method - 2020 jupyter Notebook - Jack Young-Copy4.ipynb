{
 "cells": [
  {
   "cell_type": "code",
   "execution_count": 1,
   "metadata": {},
   "outputs": [],
   "source": [
    "from IPython.core.display import display, HTML\n",
    "display(HTML(\"<style>.container { width:100% !important; }</style>\"))"
   ]
  },
  {
   "cell_type": "code",
   "execution_count": 2,
   "metadata": {},
   "outputs": [],
   "source": [
    "import matplotlib\n",
    "import matplotlib.pyplot as plt\n",
    "import numpy as np\n",
    "from ipywidgets import interactive, widgets\n",
    "%matplotlib tk"
   ]
  },
  {
   "cell_type": "markdown",
   "metadata": {},
   "source": [
    "First we establish a function f(x) which we will name fun to be called in our other functions."
   ]
  },
  {
   "cell_type": "code",
   "execution_count": 3,
   "metadata": {},
   "outputs": [],
   "source": [
    "def func(xi):\n",
    "    y= -(2*xi[0]+3*xi[1]-xi[0]**3-2*xi[1]**2);\n",
    "    return y"
   ]
  },
  {
   "cell_type": "code",
   "execution_count": 4,
   "metadata": {},
   "outputs": [],
   "source": [
    "def fun(xi):\n",
    "    from numpy import arange,append,transpose\n",
    "    y=func(xi)\n",
    "    dy=[]\n",
    "    dx=0.000000001\n",
    "    k=arange(1,len(xi)+1,1)\n",
    "    #print(k)\n",
    "    for i in k:\n",
    "        xtemp=xi[:]\n",
    "        xtemp[i-1]=xtemp[i-1]+dx\n",
    "        ytemp=func(xtemp)\n",
    "        ydif=ytemp-y\n",
    "        a = (ydif)/dx\n",
    "        dy=append(dy,a)\n",
    "        \n",
    "        \n",
    "    return y,dy"
   ]
  },
  {
   "cell_type": "code",
   "execution_count": null,
   "metadata": {},
   "outputs": [],
   "source": []
  },
  {
   "cell_type": "markdown",
   "metadata": {},
   "source": [
    "\n",
    "Next, we will establish a function func_a which will define the search function along its path."
   ]
  },
  {
   "cell_type": "code",
   "execution_count": 5,
   "metadata": {},
   "outputs": [],
   "source": [
    "def func_a(fun,dk,xk,ai):\n",
    "    from numpy import asarray\n",
    "    xi = xk + ai*dk\n",
    "    fi= fun(xi)\n",
    "    return fi"
   ]
  },
  {
   "cell_type": "markdown",
   "metadata": {},
   "source": [
    "Now, we will establish a function to search for the upper and lower bounds of our search. If this domain contains the function minimum then the while loop will break."
   ]
  },
  {
   "cell_type": "code",
   "execution_count": 6,
   "metadata": {},
   "outputs": [],
   "source": [
    "def bound_search(fun,xk,dk,LB,UB,delta):\n",
    "    from numpy import arange\n",
    "    from numpy import asarray\n",
    "    as1= arange(LB,UB,delta)\n",
    "    q=1\n",
    "    aq=as1[q]\n",
    "    xq=xk+dk*aq\n",
    "    yq1=func_a(func,dk,xk,aq)\n",
    "    while 1:\n",
    "        q=q+1;\n",
    "        aq=as1[q]\n",
    "        yq2 = func_a(func,dk,xk,aq)\n",
    "        if (yq1<yq2):\n",
    "            new_LB=as1[q-2]\n",
    "            new_UB=as1[q]\n",
    "            break   \n",
    "        if q==len(as1):\n",
    "            new_LB=as1[q-2]\n",
    "            new_UB=as1[q]\n",
    "            break\n",
    "        yq1=yq2\n",
    "    return (new_LB,new_UB)"
   ]
  },
  {
   "cell_type": "markdown",
   "metadata": {},
   "source": [
    "Now, we will establish a function to impliment the line search method. The bounds are searched iteratively until they are within a tolerance epsilon value"
   ]
  },
  {
   "cell_type": "code",
   "execution_count": 7,
   "metadata": {},
   "outputs": [],
   "source": [
    "#from matplotlib import *\n",
    "def line_search_equal_interval(fun, xk, dk):\n",
    "\n",
    "    from numpy import arange\n",
    "    from numpy import append\n",
    "    #from matplotlib.pyplot import subplots,plot,show,xlabel,ylabel,legend,title,tick_params,grid,ylim,xlim,xticks,yticks\n",
    "    #%matplotlib inline\n",
    "    UB=10\n",
    "    LB=0\n",
    "   \n",
    "    delta = .05\n",
    "    r = .2\n",
    "    epsilon_tolerance2 = .0001\n",
    "    aopt_found = 0\n",
    "    iter1 = 1\n",
    "   \n",
    "    \n",
    "    while not (aopt_found == 1):\n",
    "        (new_LB, new_UB) = bound_search(fun, xk, dk, LB, UB, delta)\n",
    "        if abs(new_UB - new_LB) < epsilon_tolerance2:\n",
    "            aopt_found = 1;\n",
    "        delta = r * delta\n",
    "        LB = new_LB\n",
    "        UB = new_UB\n",
    "        \n",
    "        iter1 = iter1 + 1\n",
    "        a_opt = (UB + LB) / 2\n",
    "   \n",
    "\n",
    "    return a_opt"
   ]
  },
  {
   "cell_type": "code",
   "execution_count": 8,
   "metadata": {},
   "outputs": [],
   "source": [
    "def golden_search(fun,xk,dk):\n",
    "    import math\n",
    "    from numpy import arange\n",
    "    from numpy import append\n",
    "    from numpy import asarray\n",
    "    #from matplotlib.pyplot import subplots,plot,show,xlabel,ylabel,legend,title,tick_params,grid,xlim,ylim,xticks,yticks   \n",
    "    from numpy import sum\n",
    "    #%matplotlib tk\n",
    "    LB=0\n",
    "    UB=10  \n",
    "    delta=.01\n",
    "    etol =.0001\n",
    "    r=(1+math.sqrt(5))/2\n",
    "    ir=1/r\n",
    "    at=arange(LB,UB,delta)\n",
    "    xas=[]\n",
    "    yts=[]\n",
    "    sn = len(at)\n",
    "    sn = arange(0, sn, 1)\n",
    "    iterations=0\n",
    "    for i in sn:\n",
    "        fi = func_a(func,dk,xk,at[i])\n",
    "        yts = append(yts,fi)\n",
    "    ymin=min(yts)   \n",
    "    ymax=max(yts)\n",
    "    #fig, ax = subplots()\n",
    "    #CS = ax.plot(at,yts)\n",
    "    #####plotting custimization\n",
    "    #grid()\n",
    "    ##xlabel('Search Path',fontsize=24)\n",
    "    #ylabel('Objective Function Value',fontsize=24)\n",
    "    #title('Objective Function Optimization with Golden Section Search',fontsize=24)\n",
    "    #fig.set_size_inches(18.5, 10.5)\n",
    "    #xlim(xmin,xmax)\n",
    "    #####\n",
    "    a0=delta\n",
    "    f0=func_a(func,dk,xk,a0)\n",
    "    a1=delta+delta*r\n",
    "    f1=func_a(func,dk,xk,a1)\n",
    "    id1=2\n",
    "    \n",
    "    #plot(a0,f0,'rx',markersize=5)\n",
    "    #plot(a1,f1,'rx',markersize=5)\n",
    "    \n",
    "    while 1:\n",
    "        a2 = delta*sum(r**asarray(arange(0,id1,1)))\n",
    "        f2 = func_a(func,dk,xk,a2)\n",
    "        #plot(a2,f2,'rx',markersize=5)\n",
    "        if (f0>f1) & (f1<f2):\n",
    "            break\n",
    "        else:\n",
    "            id1=id1+1\n",
    "            a0=a1\n",
    "            a1=a2\n",
    "            f0=f1\n",
    "            f1=f2\n",
    "    \n",
    "    ##phase 2\n",
    "    \n",
    "    \n",
    "    aL=a0\n",
    "    aA=a1\n",
    "    aU=a2\n",
    "    fL=f0\n",
    "    fA=f1\n",
    "    fU=f2\n",
    "      \n",
    "    \n",
    "    Intv0=aU-aL\n",
    "    aB=aL+ir*Intv0\n",
    "    fB=func_a(func,dk,xk,aB)\n",
    "    \n",
    "    #plot(aL,fL,'bo',markerfacecolor=\"None\")\n",
    "    #plot(aA,fA,'bo',markerfacecolor=\"None\")\n",
    "    #plot(aB,fB,'bo',markerfacecolor=\"None\")\n",
    "    #plot(aU,fU,'bo',markerfacecolor=\"None\")    \n",
    "            \n",
    "    while 1:\n",
    "        #plot(aA,fA,'bx',markersize=5)\n",
    "        #plot(aB,fB,'bx',markersize=5)\n",
    "        \n",
    "        if (fA<fB):\n",
    "            aL=aL\n",
    "            aU=aB\n",
    "            aB=aA\n",
    "            fL=fL\n",
    "            fU=fB\n",
    "            fB=fA\n",
    "            Intv1=aU-aL\n",
    "            aA=aL+(1-ir)*Intv1\n",
    "            fA=func_a(func,dk,xk,aA)\n",
    "        else:\n",
    "            aL=aA\n",
    "            aU=aU\n",
    "            aA=aB\n",
    "            fL=fA\n",
    "            fU=fU\n",
    "            fA=fB\n",
    "            Intv1=aU-aL\n",
    "            aB=aL+ir*Intv1\n",
    "            fB=func_a(func,dk,xk,aB)\n",
    "        if (abs(Intv1-Intv0) < etol):\n",
    "            break\n",
    "        else:\n",
    "            Intv0=Intv1\n",
    "        iterations=iterations+1\n",
    "    a_opt = (aU+aL)/2\n",
    "    #plot(a_opt, min(yts), 'rx',label='optimal design point',markersize=20)\n",
    "    #legend(loc=0,fontsize=24)\n",
    "    f_opt = (fU+fL)/2\n",
    "    return a_opt"
   ]
  },
  {
   "cell_type": "markdown",
   "metadata": {},
   "source": [
    "Now, we establish a steepest descent function and a ex10_25_fx_graphic() function:"
   ]
  },
  {
   "cell_type": "code",
   "execution_count": 9,
   "metadata": {},
   "outputs": [],
   "source": [
    "def ex10_25_fx_graphic():\n",
    "    from numpy import arange,meshgrid\n",
    "    \n",
    "    xs=arange(0,2,.01)\n",
    "    [x1,x2]=meshgrid(xs,xs)\n",
    "    f=func([x1,x2])\n",
    "    fig,ax=plt.subplots()\n",
    "    CS=ax.contour(x1,x2,f,1000,cmap='Spectral')\n",
    "    plt.colorbar(CS)\n",
    "    plt.xlabel('x1',fontsize=24)\n",
    "    plt.ylabel('x2',fontsize=24)\n",
    "    fig.set_size_inches(18.5, 10.5)\n",
    "    \n",
    "    \n"
   ]
  },
  {
   "cell_type": "code",
   "execution_count": null,
   "metadata": {},
   "outputs": [],
   "source": []
  },
  {
   "cell_type": "code",
   "execution_count": 15,
   "metadata": {
    "scrolled": false
   },
   "outputs": [],
   "source": [
    "def steepest_descent():\n",
    "    from numpy import linalg,transpose,arange,meshgrid,append,asarray\n",
    "    xka=[]\n",
    "    xkx=[]\n",
    "    xky=[]\n",
    "    x0=[.2,0]\n",
    "    k=0\n",
    "    epsilon_tol1=.0001\n",
    "    xk=x0[:]\n",
    "    \n",
    "    xka=append(xka,xk[:])\n",
    "    iter=0\n",
    "    while 1:\n",
    "        \n",
    "        \n",
    "        iter=iter+1;\n",
    "        #print(\"xk:\"+str(xk))\n",
    "        y,dy=fun(xk)\n",
    "        ck=dy\n",
    "        #print('dy:'+str(dy))\n",
    "        \n",
    "        \n",
    "        \n",
    "        \n",
    "        if (linalg.norm(ck)<epsilon_tol1):\n",
    "            print('break occured after '+str(iter)+\" iterations\")\n",
    "            print(\"Final xk:\"+str(xk))\n",
    "            break\n",
    "        \n",
    "        dk=-ck[:]\n",
    "        \n",
    "        \n",
    "        a_opt=line_search_equal_interval(fun, xk, dk)\n",
    "        #a_opt=golden_search(fun,xk,dk)\n",
    "        print(\"a_opt: \"+str(a_opt))\n",
    "        xk=xk+a_opt*dk\n",
    "        xka=append(xka,xk[:])\n",
    "       \n",
    "        \n",
    "        k=k+1\n",
    "        \n",
    "    #print(\"xka:\"+str(xka))\n",
    "    \n",
    "    for i in arange(0,len(xka),2):\n",
    "        xkx=append(xkx,xka[i])\n",
    "    #print(\"xkx:\"+str(xkx))\n",
    "    for i in arange(1,len(xka),2):\n",
    "        xky=append(xky,xka[i])\n",
    "    #print(\"xky:\"+str(xky))\n",
    "    \n",
    "    ex10_25_fx_graphic()\n",
    "    #CS= plt.scatter(xka[0],xka[1])\n",
    "    CS= plt.scatter(xkx,xky)\n",
    "    CS= plt.plot(xkx,xky,'b--',linewidth=2)\n",
    "    plt.show()\n",
    "    \n",
    "   "
   ]
  },
  {
   "cell_type": "code",
   "execution_count": 16,
   "metadata": {
    "scrolled": false
   },
   "outputs": [
    {
     "name": "stdout",
     "output_type": "stream",
     "text": [
      "a_opt: 0.27422400000000025\n",
      "a_opt: 0.15132800000000002\n",
      "a_opt: 0.3406400000000003\n",
      "a_opt: 0.12864000000000003\n",
      "a_opt: 0.13964800000000002\n",
      "a_opt: 0.33988800000000025\n",
      "a_opt: 0.12939199999999995\n",
      "a_opt: 0.140416\n",
      "a_opt: 0.3399360000000003\n",
      "a_opt: 0.12935999999999998\n",
      "a_opt: 0.14108799999999996\n",
      "a_opt: 0.3386400000000004\n",
      "break occured after 13 iterations\n",
      "Final xk:[0.81648777 0.74999348]\n"
     ]
    }
   ],
   "source": [
    "steepest_descent()"
   ]
  },
  {
   "cell_type": "code",
   "execution_count": null,
   "metadata": {},
   "outputs": [],
   "source": []
  },
  {
   "cell_type": "code",
   "execution_count": null,
   "metadata": {},
   "outputs": [],
   "source": []
  },
  {
   "cell_type": "code",
   "execution_count": null,
   "metadata": {},
   "outputs": [],
   "source": []
  },
  {
   "cell_type": "code",
   "execution_count": null,
   "metadata": {},
   "outputs": [],
   "source": []
  },
  {
   "cell_type": "code",
   "execution_count": null,
   "metadata": {},
   "outputs": [],
   "source": []
  },
  {
   "cell_type": "code",
   "execution_count": null,
   "metadata": {},
   "outputs": [],
   "source": []
  },
  {
   "cell_type": "code",
   "execution_count": null,
   "metadata": {},
   "outputs": [],
   "source": []
  },
  {
   "cell_type": "code",
   "execution_count": null,
   "metadata": {},
   "outputs": [],
   "source": []
  },
  {
   "cell_type": "code",
   "execution_count": null,
   "metadata": {},
   "outputs": [],
   "source": []
  },
  {
   "cell_type": "code",
   "execution_count": null,
   "metadata": {},
   "outputs": [],
   "source": []
  }
 ],
 "metadata": {
  "kernelspec": {
   "display_name": "Python 3",
   "language": "python",
   "name": "python3"
  },
  "language_info": {
   "codemirror_mode": {
    "name": "ipython",
    "version": 3
   },
   "file_extension": ".py",
   "mimetype": "text/x-python",
   "name": "python",
   "nbconvert_exporter": "python",
   "pygments_lexer": "ipython3",
   "version": "3.8.3"
  }
 },
 "nbformat": 4,
 "nbformat_minor": 4
}
