{
 "cells": [
  {
   "cell_type": "code",
   "execution_count": 1,
   "metadata": {},
   "outputs": [
    {
     "data": {
      "text/html": [
       "<style>.container { width:100% !important; }</style>"
      ],
      "text/plain": [
       "<IPython.core.display.HTML object>"
      ]
     },
     "metadata": {},
     "output_type": "display_data"
    }
   ],
   "source": [
    "from IPython.core.display import display, HTML\n",
    "display(HTML(\"<style>.container { width:100% !important; }</style>\"))"
   ]
  },
  {
   "cell_type": "code",
   "execution_count": 2,
   "metadata": {},
   "outputs": [],
   "source": [
    "import matplotlib\n",
    "import matplotlib.pyplot as plt\n",
    "import numpy as np\n",
    "from ipywidgets import interactive, widgets\n",
    "%matplotlib inline"
   ]
  },
  {
   "cell_type": "code",
   "execution_count": 3,
   "metadata": {},
   "outputs": [],
   "source": [
    "def fun(xi):\n",
    "    #print(\"xi:\"+str(xi))\n",
    "    y=(xi[0]+xi[1])**2+(xi[1]+xi[2])**2\n",
    "    return y\n",
    "    "
   ]
  },
  {
   "cell_type": "code",
   "execution_count": 4,
   "metadata": {},
   "outputs": [],
   "source": [
    "def func_a(fun,dk,xk,ai):\n",
    "    from numpy import asarray\n",
    "    xi=xk+ai*asarray(dk)\n",
    "    fi=fun(xi)\n",
    "    return fi\n",
    "    "
   ]
  },
  {
   "cell_type": "code",
   "execution_count": null,
   "metadata": {},
   "outputs": [],
   "source": []
  },
  {
   "cell_type": "code",
   "execution_count": 8,
   "metadata": {},
   "outputs": [],
   "source": [
    "def line_search_armijo(fun,xk,dk):\n",
    "    from numpy import linspace,asarray,append,arange\n",
    "    LB=0\n",
    "    UB=1\n",
    "    \n",
    "    as1=linspace(0,1,30)\n",
    "    sn =arange(0,len(as1),1)\n",
    "    yts=[]\n",
    "    \n",
    "    for i in sn:\n",
    "        fi = func_a(fun,dk,xk,as1[i])\n",
    "        yts = asarray(append(yts,fi))\n",
    "                \n",
    "    nita=2\n",
    "    rho=.8\n",
    "    ai=.01\n",
    "    forwardcase=1\n",
    "    k=0\n",
    "    da=0.00001\n",
    "    fo=func_a(fun,dk,xk,0.0)\n",
    "    f0_da=func_a(fun,dk,xk,da)\n",
    "    dfo=(f0_da-fo)/da    \n",
    "    fa=func_a(fun,dk,xk,ai)\n",
    "    qa=fo+rho*dfo*ai\n",
    "    \n",
    "    \n",
    "    if (fa>qa):\n",
    "        nita=1/nita\n",
    "        ai=nita*ai\n",
    "        forwardcase=0\n",
    "    k=1\n",
    "    \n",
    "    while 1:\n",
    "        \n",
    "        fa=func_a(fun,dk,xk,ai)\n",
    "        print(\"fa:\"+str(fa))\n",
    "        qa=fo+ rho*dfo*ai\n",
    "        \n",
    "        if (fa>qa) & forwardcase:\n",
    "            break\n",
    "        if (fa<qa) & ~forwardcase:\n",
    "            break\n",
    "            \n",
    "        ai=nita*ai\n",
    "        k=k+1\n",
    "    a_opt=ai\n",
    "    return a_opt"
   ]
  },
  {
   "cell_type": "code",
   "execution_count": 9,
   "metadata": {},
   "outputs": [
    {
     "name": "stdout",
     "output_type": "stream",
     "text": [
      "fa:7.0687999999999995\n",
      "fa:6.1952\n",
      "fa:4.6208\n",
      "fa:2.1632000000000002\n"
     ]
    },
    {
     "data": {
      "text/plain": [
       "0.08"
      ]
     },
     "execution_count": 9,
     "metadata": {},
     "output_type": "execute_result"
    }
   ],
   "source": [
    "xk=[1,1,1]\n",
    "dk=[-4,-8,-4]\n",
    "line_search_armijo(fun,xk,dk)"
   ]
  }
 ],
 "metadata": {
  "kernelspec": {
   "display_name": "Python 3",
   "language": "python",
   "name": "python3"
  },
  "language_info": {
   "codemirror_mode": {
    "name": "ipython",
    "version": 3
   },
   "file_extension": ".py",
   "mimetype": "text/x-python",
   "name": "python",
   "nbconvert_exporter": "python",
   "pygments_lexer": "ipython3",
   "version": "3.8.3"
  }
 },
 "nbformat": 4,
 "nbformat_minor": 4
}
