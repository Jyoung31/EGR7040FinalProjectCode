{
 "cells": [
  {
   "cell_type": "code",
   "execution_count": 1,
   "metadata": {},
   "outputs": [],
   "source": [
    "def fun_eval(xi):\n",
    "    #from numpy import Matrix\n",
    "    import math\n",
    "    rho = 1.24 #kg/m^3\n",
    "    g=   -9.81 #m/s^2\n",
    "    Patm=101325#N/m^2\n",
    "    #print('xi:\\n'+str(xi))\n",
    "    yi=g*(-1+(((math.pi*xi[0]**2)*(-Patm+xi[4])))/(g*rho*(math.pi*xi[3]*(-1.01*xi[1]**2+xi[2]**2))+(4/3)*math.pi*(-1.01*xi[1]**3+xi[2]**3)))\n",
    "    return yi"
   ]
  },
  {
   "cell_type": "code",
   "execution_count": 2,
   "metadata": {},
   "outputs": [],
   "source": [
    "def study_function(xdata):\n",
    "    from numpy import append\n",
    "    sn,nd= xdata.shape\n",
    "    ydata=[]\n",
    "    for i in range(0,sn):\n",
    "        xi=xdata[i,:]\n",
    "        yi=fun_eval(xi)\n",
    "        ydata=append(ydata,yi)\n",
    "    return ydata"
   ]
  },
  {
   "cell_type": "code",
   "execution_count": null,
   "metadata": {},
   "outputs": [],
   "source": [
    "def param_study2D(parameter_to_study,LB,UB):\n",
    "    from numpy import ones,arange,transpose,array,linspace\n",
    "    from matplotlib.pyplot import subplots,plot,show,xlabel,ylabel,legend,title,tick_params,grid,ylim,xlim,xticks,yticks\n",
    "    %matplotlib inline\n",
    "    fig,ax=subplots()\n",
    "    gridn=10\n",
    "    xs=transpose([array(linspace(LB,UB,sn))])\n",
    "    "
   ]
  }
 ],
 "metadata": {
  "kernelspec": {
   "display_name": "Python 3",
   "language": "python",
   "name": "python3"
  },
  "language_info": {
   "codemirror_mode": {
    "name": "ipython",
    "version": 3
   },
   "file_extension": ".py",
   "mimetype": "text/x-python",
   "name": "python",
   "nbconvert_exporter": "python",
   "pygments_lexer": "ipython3",
   "version": "3.8.3"
  }
 },
 "nbformat": 4,
 "nbformat_minor": 4
}
