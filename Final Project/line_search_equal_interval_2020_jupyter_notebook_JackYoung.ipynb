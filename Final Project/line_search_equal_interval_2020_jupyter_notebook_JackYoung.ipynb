{
 "cells": [
  {
   "cell_type": "markdown",
   "metadata": {},
   "source": [
    "First we establish a function f(x) which we will name fun to be called in our other functions."
   ]
  },
  {
   "cell_type": "code",
   "execution_count": 1,
   "metadata": {},
   "outputs": [],
   "source": [
    "def fun(x):\n",
    "    from sympy import symbols\n",
    "    x1,x2,x3=symbols('x_1,x_2,x_3')\n",
    "    y=(x[0]+x[1])**2+(x[1]+x[2])**2;\n",
    "    return y"
   ]
  },
  {
   "cell_type": "markdown",
   "metadata": {},
   "source": [
    "Next, we will establish a function func_a which will define the search function along its path."
   ]
  },
  {
   "cell_type": "code",
   "execution_count": 2,
   "metadata": {},
   "outputs": [],
   "source": [
    "def func_a(fun,dk,xk,ai):\n",
    "    from numpy import asarray\n",
    "    xi = xk + ai*asarray(dk)\n",
    "    fi= fun(xi)\n",
    "    return fi"
   ]
  },
  {
   "cell_type": "markdown",
   "metadata": {},
   "source": [
    "Now, we will establish a function to search for the upper and lower bounds of our search. If this domain contains the function minimum then the while loop will break."
   ]
  },
  {
   "cell_type": "code",
   "execution_count": 3,
   "metadata": {},
   "outputs": [],
   "source": [
    "def bound_search(fun,xk,dk,LB,UB,delta):\n",
    "    from numpy import arange\n",
    "    from numpy import asarray\n",
    "    as1= arange(LB,UB,delta)\n",
    "    q=1\n",
    "    aq=as1[q]\n",
    "    xq=xk+asarray(dk)*aq\n",
    "    yq1=func_a(fun,dk,xk,aq)\n",
    "    while 1:\n",
    "        q=q+1;\n",
    "        aq=as1[q]\n",
    "        yq2 = func_a(fun,dk,xk,aq)\n",
    "        if yq1<yq2:\n",
    "            new_LB=as1[q-2]\n",
    "            new_UB=as1[q]\n",
    "            break\n",
    "        yq1=yq2\n",
    "    return (new_LB,new_UB)"
   ]
  },
  {
   "cell_type": "markdown",
   "metadata": {},
   "source": [
    "Now, we will establish a function to impliment the line search method. The bounds are searched iteratively until they are within a tolerance epsilon value"
   ]
  },
  {
   "cell_type": "code",
   "execution_count": 4,
   "metadata": {},
   "outputs": [],
   "source": [
    "from matplotlib import *\n",
    "def line_search_equal_interval(fun, xk, dk,LB,UB):\n",
    "\n",
    "    from numpy import arange\n",
    "    from numpy import append\n",
    "    import matplotlib\n",
    "    from matplotlib.pyplot import subplots\n",
    "    from matplotlib.pyplot import plot\n",
    "    from matplotlib.pyplot import show\n",
    "    from matplotlib.pyplot import xlabel\n",
    "    from matplotlib.pyplot import ylabel\n",
    "    from matplotlib.pyplot import legend\n",
    "    from matplotlib.pyplot import title\n",
    "    from matplotlib.pyplot import tick_params\n",
    "    from matplotlib.pyplot import grid\n",
    "    from matplotlib.pyplot import ylim\n",
    "    from matplotlib.pyplot import xlim\n",
    "    from matplotlib.pyplot import xticks\n",
    "    from matplotlib.pyplot import yticks\n",
    "    %matplotlib tk \n",
    "    # qt, wx, gtk, osx, tk, empty uses default \n",
    "    \n",
    "    \n",
    "\n",
    "    \n",
    "    fig, ax = subplots()\n",
    "    xmin=LB\n",
    "    xmax=UB\n",
    "    delta = .01\n",
    "    r = .2\n",
    "    epsilon_tolerance = .00001\n",
    "    aopt_found = 0\n",
    "    iter = 1\n",
    "    as1 = arange(LB, UB, delta / 10)\n",
    "    sn = len(as1)\n",
    "    sn = arange(0, sn, 1)\n",
    "    ys = []\n",
    "    \n",
    "    for i in sn:\n",
    "        yi = func_a(fun, dk, xk, as1[i])\n",
    "        ys = append(ys, yi)\n",
    "\n",
    "    #####plot search line and plot formatting\n",
    "    CS = ax.plot(as1, ys)\n",
    "    xlabel('x',fontsize=24,y=1.02)\n",
    "    ylabel('f(x)',fontsize=24)\n",
    "    title('Equal Interval Search Method Optimization technique',fontsize=24,y=1.02)\n",
    "    tick_params(labelsize=24,pad=6)\n",
    "    grid()\n",
    "    #####\n",
    "    \n",
    "    while not (aopt_found == 1):\n",
    "        (new_LB, new_UB) = bound_search(fun, xk, dk, LB, UB, delta)\n",
    "        if abs(new_UB - new_LB) < epsilon_tolerance:\n",
    "            aopt_found = 1;\n",
    "        delta = r * delta\n",
    "        LB = new_LB\n",
    "        UB = new_UB\n",
    "        plot(LB, 0)\n",
    "        plot(UB, 0)\n",
    "        iter = iter + 1\n",
    "        a_opt = (UB + LB) / 2\n",
    "        print(a_opt)\n",
    "        ax.plot(UB, min(ys), 'b|',LB,min(ys),'b|',markersize=20)\n",
    "    ax.plot(a_opt, min(ys), 'ro',label='optimal design point')\n",
    "    \n",
    "    #####Plot formatting\n",
    "    legend(loc=0,fontsize=24)\n",
    "    fig.set_size_inches(.5*18.5, .5*10.5)  \n",
    "    xmax=max(as1)\n",
    "    xtickstepsize=(xmax)/10\n",
    "    #xticks(arange(xmin,xmax,step=xtickstepsize),rotation=30)\n",
    "    ymin=min(ys)\n",
    "    ymax=max(ys)\n",
    "    ytickstepsize=ymax/10\n",
    "    yticks(arange(ymin,ymax,ytickstepsize))   \n",
    "    xlim(xmin,xmax)\n",
    "    ylim(ymin-ytickstepsize,ymax)\n",
    "    show()\n",
    "    #####\n",
    "    \n",
    "    iter = iter\n",
    "\n",
    "    return a_opt, iter"
   ]
  },
  {
   "cell_type": "markdown",
   "metadata": {},
   "source": [
    "Finally, we excecute the function we have created."
   ]
  },
  {
   "cell_type": "code",
   "execution_count": 5,
   "metadata": {
    "scrolled": false
   },
   "outputs": [
    {
     "name": "stdout",
     "output_type": "stream",
     "text": [
      "0.16999999999999998\n",
      "0.166\n",
      "0.1668000000000001\n",
      "0.16664000000000007\n",
      "0.166672\n",
      "0.16666560000000002\n"
     ]
    },
    {
     "data": {
      "text/plain": [
       "(0.16666560000000002, 7)"
      ]
     },
     "execution_count": 5,
     "metadata": {},
     "output_type": "execute_result"
    }
   ],
   "source": [
    "xk=[1,1,1]\n",
    "dk=[-4,-8,-4]\n",
    "LB = 0\n",
    "UB = 1\n",
    "line_search_equal_interval(fun,xk,dk,LB,UB)"
   ]
  },
  {
   "cell_type": "code",
   "execution_count": null,
   "metadata": {},
   "outputs": [],
   "source": []
  }
 ],
 "metadata": {
  "kernelspec": {
   "display_name": "Python 3",
   "language": "python",
   "name": "python3"
  },
  "language_info": {
   "codemirror_mode": {
    "name": "ipython",
    "version": 3
   },
   "file_extension": ".py",
   "mimetype": "text/x-python",
   "name": "python",
   "nbconvert_exporter": "python",
   "pygments_lexer": "ipython3",
   "version": "3.8.3"
  }
 },
 "nbformat": 4,
 "nbformat_minor": 4
}
