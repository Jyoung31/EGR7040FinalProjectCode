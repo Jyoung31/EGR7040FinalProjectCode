{
 "cells": [
  {
   "cell_type": "markdown",
   "metadata": {},
   "source": [
    "First, we enable sympy and matplotlib libraries and initiate latex printing. Additionally, we import "
   ]
  },
  {
   "cell_type": "code",
   "execution_count": 9,
   "metadata": {},
   "outputs": [],
   "source": [
    "from sympy import *\n",
    "import matplotlib.pyplot as plt\n",
    "init_printing()"
   ]
  },
  {
   "cell_type": "markdown",
   "metadata": {},
   "source": [
    "We want the maximum height, **H** to be achieved by our rocket. In order to do this we are optimizing the rocket Equation shown below. This equation came from https://www.grc.nasa.gov/WWW/K-12/rocket/rktslaunch.html and describes the acceleration of a pressurized rocket based on variables: $P_{i}$-internal pressure,$P_{atm}$-external pressure, **a**-acceleration, **g**-gravitational acceleration, **A**-cross sectional area, **t**-time, **W**-weight. \n",
    "\n",
    "We initiate these symbols and establish a symbolic relationship for the acceleration, **a**."
   ]
  },
  {
   "cell_type": "code",
   "execution_count": 10,
   "metadata": {},
   "outputs": [],
   "source": [
    "Pi,po,a,g,A,t,W=symbols('P_i,P_atm,a,g,A,t,W')\n",
    "a = g*(((pi-po)*A)/W-1)"
   ]
  },
  {
   "cell_type": "markdown",
   "metadata": {},
   "source": [
    "The expression for **a** is given as:"
   ]
  },
  {
   "cell_type": "code",
   "execution_count": 11,
   "metadata": {},
   "outputs": [
    {
     "name": "stdout",
     "output_type": "stream",
     "text": [
      "a="
     ]
    },
    {
     "data": {
      "image/png": "[encoded data removed]",
      "text/latex": [
       "$\\displaystyle g \\left(\\frac{A \\left(\\pi - P_{atm}\\right)}{W} - 1\\right)$"
      ],
      "text/plain": [
       "  ⎛A⋅(π - Pₐₜₘ)    ⎞\n",
       "g⋅⎜──────────── - 1⎟\n",
       "  ⎝     W          ⎠"
      ]
     },
     "execution_count": 11,
     "metadata": {},
     "output_type": "execute_result"
    }
   ],
   "source": [
    "print('a=',end='')\n",
    "a"
   ]
  },
  {
   "cell_type": "markdown",
   "metadata": {},
   "source": [
    "This equation currently does not satisfy the candidate design problem project requirement for as is. There are only 3 design variables when the project requires there to be 4. This can be fixed by substituting in an expression for **A**."
   ]
  },
  {
   "cell_type": "code",
   "execution_count": 12,
   "metadata": {},
   "outputs": [
    {
     "data": {
      "image/png": "[encoded data removed]",
      "text/latex": [
       "$\\displaystyle g \\left(-1 + \\frac{\\pi r^{2} \\left(\\pi - P_{atm}\\right)}{W}\\right)$"
      ],
      "text/plain": [
       "  ⎛        2           ⎞\n",
       "  ⎜     π⋅r ⋅(π - Pₐₜₘ)⎟\n",
       "g⋅⎜-1 + ───────────────⎟\n",
       "  ⎝            W       ⎠"
      ]
     },
     "execution_count": 12,
     "metadata": {},
     "output_type": "execute_result"
    }
   ],
   "source": [
    "r=symbols('r')\n",
    "A1 = pi*r**2\n",
    "\n",
    "a = a.subs(A,A1)\n",
    "a"
   ]
  },
  {
   "cell_type": "markdown",
   "metadata": {},
   "source": []
  },
  {
   "cell_type": "markdown",
   "metadata": {},
   "source": [
    "This equation also does not meet the minimum criteria for the design candidate problem of at least 4 design variables. The weight however is a function of the designs volume. In order to meet the criteria for minimum design variables, we add an expression for volume and substitute it into the candidate design problem with the followiung additional design variables: $r_{i}$ - inner radius, $r_{o}$ - outer radius, and **h** - cylinder height. "
   ]
  },
  {
   "cell_type": "code",
   "execution_count": null,
   "metadata": {},
   "outputs": [],
   "source": [
    "ri,ro,h=symbols('ri','ro','h')\n"
   ]
  },
  {
   "cell_type": "code",
   "execution_count": null,
   "metadata": {},
   "outputs": [],
   "source": []
  }
 ],
 "metadata": {
  "kernelspec": {
   "display_name": "Python 3",
   "language": "python",
   "name": "python3"
  },
  "language_info": {
   "codemirror_mode": {
    "name": "ipython",
    "version": 3
   },
   "file_extension": ".py",
   "mimetype": "text/x-python",
   "name": "python",
   "nbconvert_exporter": "python",
   "pygments_lexer": "ipython3",
   "version": "3.8.3"
  }
 },
 "nbformat": 4,
 "nbformat_minor": 4
}
