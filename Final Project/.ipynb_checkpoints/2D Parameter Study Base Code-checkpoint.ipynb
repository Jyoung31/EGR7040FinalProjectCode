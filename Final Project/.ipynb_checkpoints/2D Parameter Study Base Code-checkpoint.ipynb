{
 "cells": [
  {
   "cell_type": "code",
   "execution_count": 19,
   "metadata": {},
   "outputs": [],
   "source": [
    "import numpy as np\n",
    "import matplotlib.pyplot as plt\n",
    "from ipywidgets import interactive,widgets"
   ]
  },
  {
   "cell_type": "code",
   "execution_count": 50,
   "metadata": {},
   "outputs": [],
   "source": [
    "def fun_eval(xi):\n",
    "    #from numpy import Matrix\n",
    "    import math\n",
    "    c=[0,1,1,5,1]\n",
    "    yi=c[0]+c[1]*xi[0]**3+c[2]*math.exp(xi[1])-c[3]*xi[1]**2-c[4]*xi[0]*xi[1];\n",
    "    return yi"
   ]
  },
  {
   "cell_type": "code",
   "execution_count": 51,
   "metadata": {},
   "outputs": [],
   "source": [
    "def study_function(xdata):\n",
    "    from numpy import append\n",
    "    sn,nd= xdata.shape\n",
    "    ydata=[]\n",
    "    for i in range(0,sn):\n",
    "        xi=xdata[i,:]\n",
    "        yi=fun_eval(xi)\n",
    "        ydata=append(ydata,yi)\n",
    "    return ydata"
   ]
  },
  {
   "cell_type": "code",
   "execution_count": 80,
   "metadata": {},
   "outputs": [],
   "source": [
    "def param_study2D(parameter1,parameter2,LB,UB,gridn,angle):\n",
    "    from numpy import ones,arange,transpose,array,linspace,meshgrid,shape,reshape,zeros\n",
    "    from matplotlib.pyplot import subplots,plot,show,xlabel,ylabel,legend,title,tick_params,grid,ylim,xlim,xticks,yticks\n",
    "    from mpl_toolkits import mplot3d\n",
    "    %matplotlib inline\n",
    "    #gridn=10\n",
    "    xs=transpose([array(linspace(LB,UB,gridn))])\n",
    "    [xs1,xs2]=meshgrid(xs,xs)\n",
    "    shape=shape(xs1)\n",
    "    xs1=xs1.flatten('F')\n",
    "    xs2=xs2.flatten('F')\n",
    "    sn=len(xs1)\n",
    "    parameter1=parameter1-1\n",
    "    parameter2=parameter2-1\n",
    "   \n",
    "\n",
    "    xdata=zeros([sn,3])\n",
    "    xdata[:,parameter1]=xs1\n",
    "    xdata[:,parameter2]=xs2\n",
    "    ydata=study_function(xdata)\n",
    "    ydata=ydata.flatten('F')\n",
    "    fig = plt.figure()\n",
    "    ax = plt.axes(projection='3d')\n",
    "    ax.plot_trisurf(xs1,xs2,ydata,cmap='gist_heat')\n",
    "    fig.set_size_inches(18.5,18.5)\n",
    "    ax.view_init(30, angle)\n",
    "    \n",
    "    "
   ]
  },
  {
   "cell_type": "code",
   "execution_count": 81,
   "metadata": {},
   "outputs": [
    {
     "data": {
      "application/vnd.jupyter.widget-view+json": {
       "model_id": "a8e941b7aba9426fb1d07c163f4dbeb5",
       "version_major": 2,
       "version_minor": 0
      },
      "text/plain": [
       "interactive(children=(Dropdown(description='parameter1', options=(1, 2, 3), value=1), Dropdown(description='pa…"
      ]
     },
     "metadata": {},
     "output_type": "display_data"
    }
   ],
   "source": [
    "interactive(param_study2D,parameter1=[1,2,3],parameter2=[2,1,3],LB=[0,.25,.5,.75,1],UB=[.25,.5,.75,1],angle=widgets.IntSlider(min=0, max=360, step=15, value=45),gridn=[10,15,20,25,30,40,50,60,70,80,90,100])"
   ]
  },
  {
   "cell_type": "code",
   "execution_count": null,
   "metadata": {},
   "outputs": [],
   "source": []
  },
  {
   "cell_type": "code",
   "execution_count": null,
   "metadata": {},
   "outputs": [],
   "source": []
  }
 ],
 "metadata": {
  "kernelspec": {
   "display_name": "Python 3",
   "language": "python",
   "name": "python3"
  },
  "language_info": {
   "codemirror_mode": {
    "name": "ipython",
    "version": 3
   },
   "file_extension": ".py",
   "mimetype": "text/x-python",
   "name": "python",
   "nbconvert_exporter": "python",
   "pygments_lexer": "ipython3",
   "version": "3.8.3"
  }
 },
 "nbformat": 4,
 "nbformat_minor": 4
}
