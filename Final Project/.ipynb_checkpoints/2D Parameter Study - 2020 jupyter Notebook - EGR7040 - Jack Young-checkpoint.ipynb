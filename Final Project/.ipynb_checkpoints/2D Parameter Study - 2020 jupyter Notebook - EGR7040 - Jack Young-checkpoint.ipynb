{
 "cells": [
  {
   "cell_type": "code",
   "execution_count": 1,
   "metadata": {},
   "outputs": [],
   "source": [
    "#Jack Young\n",
    "import numpy as np\n",
    "import matplotlib.pyplot as plt\n",
    "import matplotlib\n",
    "from ipywidgets import interactive,widgets"
   ]
  },
  {
   "cell_type": "code",
   "execution_count": 2,
   "metadata": {},
   "outputs": [],
   "source": [
    "def fun_eval(xi):\n",
    "    #from numpy import Matrix\n",
    "    import math\n",
    "    rho = 1.24 #kg/m^3\n",
    "    g=   -9.81 #m/s^2\n",
    "    Patm=101325#N/m^2\n",
    "    #print('xi:\\n'+str(xi))\n",
    "    yi=.0001*g*(-1+(((math.pi*xi[0]**2)*(-Patm+xi[4])))/(g*rho*(math.pi*xi[3]*(-1.01*xi[1]**2+xi[2]**2))+(4/3)*math.pi*(-1.01*xi[1]**3+xi[2]**3)))\n",
    "    return yi"
   ]
  },
  {
   "cell_type": "code",
   "execution_count": 3,
   "metadata": {},
   "outputs": [],
   "source": [
    "def study_function(xdata):\n",
    "    from numpy import append\n",
    "    sn,nd= xdata.shape\n",
    "    ydata=[]\n",
    "    for i in range(0,sn):\n",
    "        xi=xdata[i,:]\n",
    "        yi=fun_eval(xi)\n",
    "        ydata=append(ydata,yi)\n",
    "    return ydata"
   ]
  },
  {
   "cell_type": "code",
   "execution_count": 22,
   "metadata": {},
   "outputs": [],
   "source": [
    "def param_study2D(parameter1,parameter2,LB,UB,gridn,angle):\n",
    "    \n",
    "    from numpy import ones,arange,transpose,array,linspace,meshgrid,shape,reshape,zeros\n",
    "    from matplotlib.pyplot import subplots,plot,show,xlabel,ylabel,legend,title,tick_params,grid,ylim,xlim,xticks,yticks,close,pause\n",
    "    from mpl_toolkits import mplot3d\n",
    "    %matplotlib inline\n",
    "    xs=transpose([array(linspace(LB,UB,gridn))])\n",
    "    [xs1,xs2]=meshgrid(xs,xs)\n",
    "    shape=shape(xs1)\n",
    "    xs1=xs1.flatten('F')\n",
    "    xs2=xs2.flatten('F')\n",
    "    sn=len(xs1)\n",
    "    parameter1=parameter1-1\n",
    "    parameter2=parameter2-1\n",
    "   \n",
    "\n",
    "    xdata=ones([sn,5])*.5#integer to right of sn, needs to equal number of design variables in objective function\n",
    "    xdata[:,parameter1]=xs1\n",
    "    xdata[:,parameter2]=xs2\n",
    "    #print('xs1:\\n'+str(xs1))\n",
    "    ydata=study_function(xdata)\n",
    "    ydata=ydata.flatten('F')\n",
    "    close(\"All\")\n",
    "    fig = plt.figure()\n",
    "    ax = plt.axes(projection='3d')\n",
    "    ax.plot_trisurf(xs1,xs2,ydata,cmap='gist_heat')\n",
    "    #ax.scatter(xs1,xs2,ydata,c=ydata,cmap='RdGy',linewidth=1)\n",
    "    fig.set_size_inches(18.5,18.5)\n",
    "    xlabel('Study Parameter: x'+str(parameter1+1),fontsize=24,labelpad=15)\n",
    "    ylabel('Study Parameter: x'+str(parameter2+1),fontsize=24,labelpad=15)\n",
    "    title(' --- Parameter '+str(parameter1+1)+' & '+str(parameter2+1)+' study ---',fontsize=24)\n",
    "    ax.set_zlabel('Objective Function Value',fontsize=24,labelpad=20)    \n",
    "    ax.view_init(30, angle)\n",
    "        \n",
    "        "
   ]
  },
  {
   "cell_type": "code",
   "execution_count": 26,
   "metadata": {
    "scrolled": false
   },
   "outputs": [
    {
     "data": {
      "application/vnd.jupyter.widget-view+json": {
       "model_id": "728a6c1ee4404dd99ae63ffdc1ef7a78",
       "version_major": 2,
       "version_minor": 0
      },
      "text/plain": [
       "interactive(children=(Dropdown(description='parameter1', options=(1, 2, 3, 4, 5), value=1), Dropdown(descripti…"
      ]
     },
     "metadata": {},
     "output_type": "display_data"
    }
   ],
   "source": [
    "interactive(param_study2D,parameter1=[1,2,3,4,5],parameter2=[2,1,3,4,5],LB=[0.01,.08,.09,.1,.11,.12,.13,.14,.15,.25,.4,.5,.75,1,10,100,1000,10000,100000,10000000],UB=[.1,.11,.12,.13,.14,.15,.25,.3,.5,.6,.75,1,1.1,1.5,100,1000,10000,100000,1000000],gridn=[10,15,20,25,30,40,50,60,70,80,90,100],angle=widgets.IntSlider(min=0, max=360, step=15, value=225))"
   ]
  },
  {
   "cell_type": "code",
   "execution_count": null,
   "metadata": {},
   "outputs": [],
   "source": []
  },
  {
   "cell_type": "code",
   "execution_count": null,
   "metadata": {},
   "outputs": [],
   "source": []
  }
 ],
 "metadata": {
  "kernelspec": {
   "display_name": "Python 3",
   "language": "python",
   "name": "python3"
  },
  "language_info": {
   "codemirror_mode": {
    "name": "ipython",
    "version": 3
   },
   "file_extension": ".py",
   "mimetype": "text/x-python",
   "name": "python",
   "nbconvert_exporter": "python",
   "pygments_lexer": "ipython3",
   "version": "3.8.3"
  }
 },
 "nbformat": 4,
 "nbformat_minor": 4
}
