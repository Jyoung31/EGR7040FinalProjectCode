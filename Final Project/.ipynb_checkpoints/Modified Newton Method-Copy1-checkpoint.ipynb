{
 "cells": [
  {
   "cell_type": "code",
   "execution_count": 1,
   "metadata": {},
   "outputs": [
    {
     "data": {
      "text/html": [
       "<style>.container { width:100% !important; }</style>"
      ],
      "text/plain": [
       "<IPython.core.display.HTML object>"
      ]
     },
     "metadata": {},
     "output_type": "display_data"
    }
   ],
   "source": [
    "from IPython.core.display import display, HTML\n",
    "display(HTML(\"<style>.container { width:100% !important; }</style>\"))"
   ]
  },
  {
   "cell_type": "code",
   "execution_count": 2,
   "metadata": {},
   "outputs": [],
   "source": [
    "import matplotlib\n",
    "import matplotlib.pyplot as plt\n",
    "import numpy as np\n",
    "from ipywidgets import interactive, widgets\n",
    "%matplotlib inline"
   ]
  },
  {
   "cell_type": "code",
   "execution_count": 3,
   "metadata": {},
   "outputs": [],
   "source": [
    "def func(xi):\n",
    "    y= -(2*xi[0]+3*xi[1]-xi[0]**3-2*xi[1]**2);\n",
    "    #y=0.5*xi[0]**2+xi[1]**2-xi[0]*xi[1]-7*xi[0]-7*xi[1];\n",
    "    #print(\"y:\"+str(y))\n",
    "    return y"
   ]
  },
  {
   "cell_type": "code",
   "execution_count": 4,
   "metadata": {},
   "outputs": [],
   "source": [
    "def fun(xi):\n",
    "    from numpy import arange,append,transpose,asarray\n",
    "    \n",
    "    ####Finite Difference Method\n",
    "    #y= -(2*xi[0]+3*xi[1]-xi[0]**3-2*xi[1]**2);\n",
    "    #dy=[]\n",
    "    #dx=0.000000001\n",
    "    #k=arange(1,len(xi)+1,1)\n",
    "    ##print(k)\n",
    "    #for i in k:\n",
    "    #    xtemp=xi[:]\n",
    "    #    xtemp[i-1]=xtemp[i-1]+dx\n",
    "    #    ytemp=func(xtemp)\n",
    "    #    ydif=ytemp-y\n",
    "    #    a = (ydif)/dx\n",
    "    #    dy=append(dy,a)\n",
    "    dy=asarray([-2+3*xi[0]**2,-3+4*xi[1]])\n",
    "    ####end fdm method\n",
    "    y=func(xi)\n",
    "    #dy= asarray([xi[0]-xi[1]-7,2*xi[1]-xi[0]-7])\n",
    "    H=asarray([1,-1,-1,2])\n",
    "    \n",
    "    return y,dy,H"
   ]
  },
  {
   "cell_type": "code",
   "execution_count": 5,
   "metadata": {},
   "outputs": [
    {
     "data": {
      "text/plain": [
       "(-2.0, array([ 1., -1.]), array([ 1, -1, -1,  2]))"
      ]
     },
     "execution_count": 5,
     "metadata": {},
     "output_type": "execute_result"
    }
   ],
   "source": [
    "fun([1,.5])"
   ]
  },
  {
   "cell_type": "code",
   "execution_count": 6,
   "metadata": {},
   "outputs": [],
   "source": [
    "def func_a(fun,dk,xk,ai):\n",
    "    from numpy import asarray\n",
    "    #print(\"dk:\"+str(dk))\n",
    "    xi = xk + ai*asarray(dk)\n",
    "    fi= fun(xi)\n",
    "    #print(\"fi:\"+str(fi))\n",
    "    return fi"
   ]
  },
  {
   "cell_type": "code",
   "execution_count": 7,
   "metadata": {},
   "outputs": [],
   "source": [
    "def bound_search(fun,xk,dk,LB,UB,delta):\n",
    "    from numpy import arange\n",
    "    from numpy import asarray\n",
    "    as1= arange(LB,UB,delta)\n",
    "    q=1\n",
    "    aq=as1[q]\n",
    "    xq=xk+asarray(dk)*aq\n",
    "    yq1=func_a(fun,dk,xk,aq)\n",
    "    while 1:\n",
    "        q=q+1;\n",
    "        aq=as1[q]\n",
    "        yq2 = func_a(fun,dk,xk,aq)\n",
    "        #print(\"yq2:\"+str(yq2))\n",
    "        if yq1<yq2:\n",
    "            new_LB=as1[q-2]\n",
    "            new_UB=as1[q]\n",
    "            break\n",
    "            \n",
    "        if q==len(as1)-1:\n",
    "            new_LB=as1[q-2]\n",
    "            new_UB=as1[q]\n",
    "            break\n",
    "        yq1=yq2\n",
    "    return (new_LB,new_UB)"
   ]
  },
  {
   "cell_type": "code",
   "execution_count": 8,
   "metadata": {},
   "outputs": [],
   "source": [
    "def line_search_equal_interval(fun, xk, dk):\n",
    "\n",
    "    from numpy import arange\n",
    "    from numpy import append\n",
    "    #from matplotlib.pyplot import subplots,plot,show,xlabel,ylabel,legend,title,tick_params,grid,ylim,xlim,xticks,yticks\n",
    "    #%matplotlib inline\n",
    "    UB=10\n",
    "    LB=0\n",
    "   \n",
    "    delta = .05\n",
    "    r = .2\n",
    "    epsilon_tolerance2 = .00001\n",
    "    aopt_found = 0\n",
    "    iter1 = 1\n",
    "   \n",
    "    \n",
    "    while not (aopt_found == 1):\n",
    "        (new_LB, new_UB) = bound_search(fun, xk, dk, LB, UB, delta)\n",
    "        if abs(new_UB - new_LB) < epsilon_tolerance2:\n",
    "            aopt_found = 1;\n",
    "        delta = r * delta\n",
    "        LB = new_LB\n",
    "        UB = new_UB\n",
    "        \n",
    "        iter1 = iter1 + 1\n",
    "        a_opt = (new_UB + new_LB) / 2\n",
    "   \n",
    "\n",
    "    return a_opt"
   ]
  },
  {
   "cell_type": "code",
   "execution_count": 9,
   "metadata": {},
   "outputs": [],
   "source": [
    "def golden_search(fun,xk,dk):\n",
    "    import math\n",
    "    from numpy import arange,append,asarray,sum\n",
    "     \n",
    "    LB=0\n",
    "    UB=10  \n",
    "    delta=.01\n",
    "    etol =.0001\n",
    "    r=(1+math.sqrt(5))/2\n",
    "    ir=1/r\n",
    "    at=arange(LB,UB,delta)\n",
    "    xas=[]\n",
    "    yts=[]\n",
    "    sn = len(at)\n",
    "    sn = arange(0, sn, 1)\n",
    "    iterations=0\n",
    "    \n",
    "    for i in sn:\n",
    "        fi = func_a(fun,dk,xk,at[i])\n",
    "        yts = asarray(append(yts,fi))\n",
    "    ymin=min(yts)   \n",
    "    ymax=max(yts)\n",
    "    \n",
    "    a0=delta\n",
    "    f0=func_a(fun,dk,xk,a0)\n",
    "    a1=delta+delta*r\n",
    "    f1=func_a(fun,dk,xk,a1)\n",
    "    id1=2\n",
    " \n",
    "    \n",
    "    while 1:\n",
    "        a2 = delta*sum(r**asarray(arange(0,id1,1)))\n",
    "        f2 = func_a(fun,dk,xk,a2)\n",
    "        if (f0>f1) & (f1<f2):\n",
    "            break\n",
    "        else:\n",
    "            id1=id1+1\n",
    "            a0=a1\n",
    "            a1=a2\n",
    "            f0=f1\n",
    "            f1=f2\n",
    "    \n",
    "    ##phase 2\n",
    "    \n",
    "    \n",
    "    aL=a0\n",
    "    aA=a1\n",
    "    aU=a2\n",
    "    fL=f0\n",
    "    fA=f1\n",
    "    fU=f2\n",
    "      \n",
    "    \n",
    "    Intv0=aU-aL\n",
    "    aB=aL+ir*Intv0\n",
    "    fB=func_a(fun,dk,xk,aB)\n",
    "    \n",
    "   \n",
    "            \n",
    "    while 1:\n",
    "\n",
    "        \n",
    "        if (fA<fB):\n",
    "            aL=aL\n",
    "            aU=aB\n",
    "            aB=aA\n",
    "            fL=fL\n",
    "            fU=fB\n",
    "            fB=fA\n",
    "            Intv1=aU-aL\n",
    "            aA=aL+(1-ir)*Intv1\n",
    "            fA=func_a(fun,dk,xk,aA)\n",
    "        else:\n",
    "            aL=aA\n",
    "            aU=aU\n",
    "            aA=aB\n",
    "            fL=fA\n",
    "            fU=fU\n",
    "            fA=fB\n",
    "            Intv1=aU-aL\n",
    "            aB=aL+ir*Intv1\n",
    "            fB=func_a(fun,dk,xk,aB)\n",
    "        if (abs(Intv1-Intv0) < etol):\n",
    "            break\n",
    "        else:\n",
    "            Intv0=Intv1\n",
    "        iterations=iterations+1\n",
    "    a_opt = (aU+aL)/2\n",
    "    f_opt = (fU+fL)/2\n",
    "    return a_opt"
   ]
  },
  {
   "cell_type": "code",
   "execution_count": 10,
   "metadata": {},
   "outputs": [],
   "source": [
    "def line_search_armijo(fun,xk,dk):\n",
    "    from numpy import linspace,asarray,append,arange\n",
    "    LB=0\n",
    "    UB=1\n",
    "    \n",
    "    as1=linspace(0,1,30)\n",
    "    sn =arange(0,len(as1),1)\n",
    "    yts=[]\n",
    "    \n",
    "    for i in sn:\n",
    "        fi = func_a(fun,dk,xk,as1[i])\n",
    "        yts = asarray(append(yts,fi))\n",
    "                \n",
    "    nita=2\n",
    "    rho=.8\n",
    "    ai=.01\n",
    "    forwardcase=1\n",
    "    k=0\n",
    "    da=0.00001\n",
    "    fo=func_a(fun,dk,xk,0.0)\n",
    "    f0_da=func_a(fun,dk,xk,da)\n",
    "    #print(\"fo:\"+str(fo))\n",
    "    #print(\"f0_da:\"+str(f0_da))\n",
    "    dfo=(f0_da-fo)/da    \n",
    "    fa=func_a(fun,dk,xk,ai)\n",
    "    qa=fo+rho*dfo*ai\n",
    "    \n",
    "    \n",
    "    if (fa>qa):\n",
    "        nita=1/nita\n",
    "        ai=nita*ai\n",
    "        forwardcase=0\n",
    "    k=1\n",
    "    \n",
    "    while 1:\n",
    "        \n",
    "        fa=func_a(fun,dk,xk,ai)\n",
    "        #print(\"fa:\"+str(fa))\n",
    "        qa=fo+ rho*dfo*ai\n",
    "        \n",
    "        if (fa>qa) & forwardcase:\n",
    "            break\n",
    "        if (fa<qa) & ~forwardcase:\n",
    "            break\n",
    "            \n",
    "        ai=nita*ai\n",
    "        k=k+1\n",
    "    a_opt=ai\n",
    "    return a_opt"
   ]
  },
  {
   "cell_type": "code",
   "execution_count": 11,
   "metadata": {},
   "outputs": [],
   "source": [
    "def ex10_25_fx_graphic():\n",
    "    from numpy import arange,meshgrid\n",
    "    \n",
    "    xs=arange(0,1,.01)\n",
    "    [x1,x2]=meshgrid(xs,xs)\n",
    "    f=func([x1,x2])\n",
    "    fig,ax=plt.subplots()\n",
    "    CS=ax.contour(x1,x2,f,1000,cmap='Spectral')\n",
    "    plt.colorbar(CS)\n",
    "    plt.xlabel('x1',fontsize=24)\n",
    "    plt.ylabel('x2',fontsize=24)\n",
    "    fig.set_size_inches(18.5, 10.5) "
   ]
  },
  {
   "cell_type": "code",
   "execution_count": 12,
   "metadata": {},
   "outputs": [],
   "source": [
    "def Hessian_fun(fun,xk):\n",
    "    from numpy import arange,append\n",
    "    dx=0.000000001\n",
    "    #print(\"xk:\"+str(xk))\n",
    "    #y=[]\n",
    "    #df=[]\n",
    "    #H=[]\n",
    "    print(\"xk:\"+str(xk))\n",
    "    y,df,H=fun(xk)\n",
    "    dfs=[]\n",
    "    #H=[]\n",
    "    k=0\n",
    "    \n",
    "    for i in arange(0,len(xk)):\n",
    "        k=k+1\n",
    "        #print(i)\n",
    "        xki=xk[:]\n",
    "        xki[i]=xki[i]+dx\n",
    "        y1,dfi,H1=fun(xki)\n",
    "        dfs=[dfs,dfi]\n",
    "        H11 = (dfi-df)/dx\n",
    "        #H1 = append(H,H11)\n",
    "        #print(\"k:\"+str(k))\n",
    "    return y1,df,H1"
   ]
  },
  {
   "cell_type": "code",
   "execution_count": 13,
   "metadata": {},
   "outputs": [],
   "source": [
    "def graphic():\n",
    "    from numpy import arange,meshgrid\n",
    "    \n",
    "    xs=arange(0,1,.01)\n",
    "    [x1,x2]=meshgrid(xs,xs)\n",
    "    f=func([x1,x2])\n",
    "    fig,ax=plt.subplots()\n",
    "    CS=ax.contour(x1,x2,f,1000,cmap='Spectral')\n",
    "    plt.colorbar(CS)\n",
    "    plt.xlabel('x1',fontsize=24)\n",
    "    plt.ylabel('x2',fontsize=24)\n",
    "    fig.set_size_inches(18.5, 10.5)"
   ]
  },
  {
   "cell_type": "code",
   "execution_count": 14,
   "metadata": {},
   "outputs": [],
   "source": [
    "def modified_newtons(method):\n",
    "    from numpy import append,arange,linspace,meshgrid,zeros,append,linalg,reshape\n",
    "    iter=0\n",
    "    xka=[]\n",
    "    xkx=[]\n",
    "    xky=[]\n",
    "    x0=[.2,0]\n",
    "    k=0\n",
    "    epsilon_tolerance=.0001\n",
    "    xk=x0[:]\n",
    "    #print(\"xk:\"+str(xk))\n",
    "    xka=append(xka,xk[:])\n",
    "    xs=linspace(0,40,21)\n",
    "    xs=linspace(0,40,21)\n",
    "    [x1,x2]=meshgrid(xs,xs)\n",
    "    ys=[]\n",
    "\n",
    "    a=arange(0,len(x1[:,1]))\n",
    "    b=arange(0,len(x2[:,1]))\n",
    "    c=len(a)\n",
    "    d=len(b)\n",
    "    ys=zeros([c,d])\n",
    "    #print(ys)\n",
    "    #print(\"a:\"+str(a))\n",
    "    for i in a:\n",
    "        for j in b:\n",
    "            xi=[x1[i,j],x2[i,j]]\n",
    "            #print(\"i:\"+str(i)+\"j:\"+str(j))\n",
    "            ys[i][j]=func(xi)\n",
    "    #print(\"ys:\"+str(ys))\n",
    "    x_hist=[]\n",
    "    \n",
    "    while 1:\n",
    "        \n",
    "        y,df,H=Hessian_fun(fun,xk)    \n",
    "        H=reshape(H,(2,2))\n",
    "        \n",
    "        if (linalg.norm(df)<epsilon_tolerance):\n",
    "            print('break occured after '+str(iter)+\" iterations\")\n",
    "            print(\"Final xk:\"+str(xk))\n",
    "            \n",
    "            if method==1:\n",
    "                print('line search section method used')\n",
    "            elif method==2:\n",
    "                print('golden section search method used')\n",
    "            elif method==3:\n",
    "                print('armijo line search method used')\n",
    "            break\n",
    "            \n",
    "        dk=-linalg.inv(H)@df\n",
    "        \n",
    "        \n",
    "        if method==1:\n",
    "            #print(\"dk:\"+str(dk))\n",
    "            a_opt=line_search_equal_interval(func, xk, dk)\n",
    "        elif method==2:\n",
    "            a_opt=golden_search(func,xk,dk)\n",
    "        elif method==3:\n",
    "            a_opt=line_search_armijo(func,xk,dk)\n",
    "        else:\n",
    "            print(\"not a proper input\")\n",
    "        \n",
    "        xk=xk+dk*a_opt\n",
    "        xka=append(xka,xk[:])\n",
    "        k=k+1\n",
    "        iter=iter+1\n",
    "    #print(\"completed after \"+str(iter)+\" iterations\")\n",
    "    print(\"Final xk:\"+str(xk))\n",
    "    #print(\"y:\"+str(y))\n",
    "    #print(\"df\"+str(df))\n",
    "    #print(\"xka:\"+str(xka))\n",
    "    \n",
    "    for i in arange(0,len(xka),2):\n",
    "        xkx=append(xkx,xka[i])\n",
    "    #print(\"xkx:\"+str(xkx))\n",
    "    for i in arange(1,len(xka),2):\n",
    "        xky=append(xky,xka[i])\n",
    "    #print(\"xky:\"+str(xky))\n",
    "    \n",
    "    \n",
    "    ##plotting\n",
    "    graphic()\n",
    "    #CS= plt.scatter(xka[0],xka[1])\n",
    "    CS= plt.scatter(xkx,xky,cmap='binary',c=xkx)\n",
    "    CS= plt.plot(xkx,xky,'b--',linewidth=2)\n",
    "    plt.show()\n",
    "    ##end plotting"
   ]
  },
  {
   "cell_type": "code",
   "execution_count": 15,
   "metadata": {},
   "outputs": [
    {
     "data": {
      "text/plain": [
       "(-2.0, array([ 1., -1.]), array([ 1, -1, -1,  2]))"
      ]
     },
     "execution_count": 15,
     "metadata": {},
     "output_type": "execute_result"
    }
   ],
   "source": [
    "fun([1,.5])"
   ]
  },
  {
   "cell_type": "code",
   "execution_count": 16,
   "metadata": {
    "scrolled": false
   },
   "outputs": [
    {
     "data": {
      "application/vnd.jupyter.widget-view+json": {
       "model_id": "115e98019ffa4c53b36b19d216e78b93",
       "version_major": 2,
       "version_minor": 0
      },
      "text/plain": [
       "interactive(children=(IntSlider(value=2, description='method', max=3, min=1), Output()), _dom_classes=('widget…"
      ]
     },
     "metadata": {},
     "output_type": "display_data"
    }
   ],
   "source": [
    "interactive(modified_newtons,method=(1,3,1))"
   ]
  },
  {
   "cell_type": "code",
   "execution_count": null,
   "metadata": {
    "scrolled": false
   },
   "outputs": [],
   "source": []
  },
  {
   "cell_type": "code",
   "execution_count": null,
   "metadata": {},
   "outputs": [],
   "source": []
  },
  {
   "cell_type": "code",
   "execution_count": null,
   "metadata": {},
   "outputs": [],
   "source": []
  },
  {
   "cell_type": "code",
   "execution_count": null,
   "metadata": {},
   "outputs": [],
   "source": []
  },
  {
   "cell_type": "code",
   "execution_count": null,
   "metadata": {},
   "outputs": [],
   "source": []
  },
  {
   "cell_type": "code",
   "execution_count": null,
   "metadata": {},
   "outputs": [],
   "source": []
  },
  {
   "cell_type": "code",
   "execution_count": null,
   "metadata": {},
   "outputs": [],
   "source": []
  },
  {
   "cell_type": "code",
   "execution_count": null,
   "metadata": {},
   "outputs": [],
   "source": []
  },
  {
   "cell_type": "code",
   "execution_count": null,
   "metadata": {},
   "outputs": [],
   "source": []
  },
  {
   "cell_type": "code",
   "execution_count": null,
   "metadata": {},
   "outputs": [],
   "source": []
  },
  {
   "cell_type": "code",
   "execution_count": null,
   "metadata": {},
   "outputs": [],
   "source": []
  },
  {
   "cell_type": "code",
   "execution_count": null,
   "metadata": {},
   "outputs": [],
   "source": []
  },
  {
   "cell_type": "code",
   "execution_count": null,
   "metadata": {},
   "outputs": [],
   "source": []
  },
  {
   "cell_type": "code",
   "execution_count": null,
   "metadata": {},
   "outputs": [],
   "source": []
  },
  {
   "cell_type": "code",
   "execution_count": null,
   "metadata": {},
   "outputs": [],
   "source": []
  },
  {
   "cell_type": "code",
   "execution_count": null,
   "metadata": {},
   "outputs": [],
   "source": []
  },
  {
   "cell_type": "code",
   "execution_count": null,
   "metadata": {},
   "outputs": [],
   "source": []
  },
  {
   "cell_type": "code",
   "execution_count": null,
   "metadata": {},
   "outputs": [],
   "source": []
  },
  {
   "cell_type": "code",
   "execution_count": null,
   "metadata": {},
   "outputs": [],
   "source": []
  },
  {
   "cell_type": "code",
   "execution_count": null,
   "metadata": {},
   "outputs": [],
   "source": []
  }
 ],
 "metadata": {
  "kernelspec": {
   "display_name": "Python 3",
   "language": "python",
   "name": "python3"
  },
  "language_info": {
   "codemirror_mode": {
    "name": "ipython",
    "version": 3
   },
   "file_extension": ".py",
   "mimetype": "text/x-python",
   "name": "python",
   "nbconvert_exporter": "python",
   "pygments_lexer": "ipython3",
   "version": "3.8.3"
  }
 },
 "nbformat": 4,
 "nbformat_minor": 4
}
