{
 "cells": [
  {
   "cell_type": "markdown",
   "metadata": {},
   "source": [
    "First we establish a function f(x) which we will name fun to be called in our other functions."
   ]
  },
  {
   "cell_type": "code",
   "execution_count": 1,
   "metadata": {},
   "outputs": [],
   "source": [
    "def fun(x):\n",
    "    from sympy import symbols\n",
    "    x1,x2,x3=symbols('x_1,x_2,x_3')\n",
    "    y=(x[0]+x[1])**2+(x[1]+x[2])**2;\n",
    "    return y"
   ]
  },
  {
   "cell_type": "markdown",
   "metadata": {},
   "source": [
    "Next, we will establish a functi"
   ]
  },
  {
   "cell_type": "code",
   "execution_count": 2,
   "metadata": {},
   "outputs": [],
   "source": [
    "def func_a(fun,dk,xk,ai):\n",
    "    from numpy import asarray\n",
    "    xi = xk + ai*asarray(dk)\n",
    "    fi= fun(xi)\n",
    "    return fi\n"
   ]
  },
  {
   "cell_type": "code",
   "execution_count": 3,
   "metadata": {},
   "outputs": [],
   "source": [
    "def bound_search(fun,xk,dk,LB,UB,delta):\n",
    "    from numpy import arange\n",
    "    from numpy import asarray\n",
    "    as1= arange(LB,UB,delta)\n",
    "    q=1\n",
    "    aq=as1[q]\n",
    "    xq=xk+asarray(dk)*aq\n",
    "    yq1=func_a(fun,dk,xk,aq)\n",
    "    while 1:\n",
    "        q=q+1;\n",
    "        aq=as1[q]\n",
    "        yq2 = func_a(fun,dk,xk,aq)\n",
    "        if yq1<yq2:\n",
    "            new_LB=as1[q-2]\n",
    "            #print(new_LB)\n",
    "            new_UB=as1[q]\n",
    "            print(new_UB)\n",
    "            break\n",
    "        yq1=yq2\n",
    "    return (new_LB,new_UB)"
   ]
  },
  {
   "cell_type": "code",
   "execution_count": 4,
   "metadata": {},
   "outputs": [],
   "source": [
    "def line_search_equal_interval(fun,xk,dk):\n",
    "    from numpy import arange\n",
    "    from numpy import append\n",
    "    from matplotlib.pyplot import subplots\n",
    "    from matplotlib.pyplot import plot\n",
    "    from matplotlib.pyplot import xlabel\n",
    "    from matplotlib.pyplot import ylabel\n",
    "    fig,ax=subplots()\n",
    "    LB=.1\n",
    "    UB=.5\n",
    "    delta=.01\n",
    "    r=.2\n",
    "    epsilon_tolerance=.00001\n",
    "    aopt_found=0\n",
    "    iter=1\n",
    "    as1= arange(LB,UB,delta/10)\n",
    "    sn = len(as1)\n",
    "    sn = arange(0,sn,1)\n",
    "    ys = []\n",
    "    for i in sn:\n",
    "        yi=func_a(fun,dk,xk,as1[i])\n",
    "        ys=append(ys,yi)\n",
    "    CS = ax.plot(as1,ys)\n",
    "    while not (aopt_found==1):\n",
    "        (new_LB,new_UB)=bound_search(fun,xk,dk,LB,UB,delta)\n",
    "        if abs(new_UB-new_LB) < epsilon_tolerance:\n",
    "            aopt_found =1;\n",
    "        delta=r*delta\n",
    "        LB=new_LB\n",
    "        UB=new_UB\n",
    "        plot(LB,0)\n",
    "        plot(UB,0)\n",
    "        iter=iter+1\n",
    "        a_opt=(UB+LB)/2\n",
    "    iter=iter\n",
    "    \n",
    "    return a_opt,iter\n"
   ]
  },
  {
   "cell_type": "code",
   "execution_count": 5,
   "metadata": {},
   "outputs": [
    {
     "name": "stdout",
     "output_type": "stream",
     "text": [
      "0.17999999999999997\n",
      "0.16799999999999998\n",
      "0.16720000000000007\n",
      "0.16672000000000003\n",
      "0.16668799999999995\n",
      "0.1666688\n"
     ]
    },
    {
     "data": {
      "text/plain": [
       "(0.1666656, 7)"
      ]
     },
     "execution_count": 5,
     "metadata": {},
     "output_type": "execute_result"
    },
    {
     "data": {
      "image/png": "[encoded data removed]",
      "text/plain": [
       "<Figure size 432x288 with 1 Axes>"
      ]
     },
     "metadata": {
      "needs_background": "light"
     },
     "output_type": "display_data"
    }
   ],
   "source": [
    "xk=[1,1,1]\n",
    "dk=[-4,-8,-4]\n",
    "line_search_equal_interval(fun,xk,dk)"
   ]
  }
 ],
 "metadata": {
  "kernelspec": {
   "display_name": "Python 3",
   "language": "python",
   "name": "python3"
  },
  "language_info": {
   "codemirror_mode": {
    "name": "ipython",
    "version": 3
   },
   "file_extension": ".py",
   "mimetype": "text/x-python",
   "name": "python",
   "nbconvert_exporter": "python",
   "pygments_lexer": "ipython3",
   "version": "3.8.3"
  }
 },
 "nbformat": 4,
 "nbformat_minor": 4
}
