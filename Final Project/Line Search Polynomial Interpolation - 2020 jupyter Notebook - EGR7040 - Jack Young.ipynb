{
 "cells": [
  {
   "cell_type": "code",
   "execution_count": 1,
   "metadata": {},
   "outputs": [
    {
     "data": {
      "text/html": [
       "<style>.container { width:100% !important; }</style>"
      ],
      "text/plain": [
       "<IPython.core.display.HTML object>"
      ]
     },
     "metadata": {},
     "output_type": "display_data"
    }
   ],
   "source": [
    "from IPython.core.display import display, HTML\n",
    "display(HTML(\"<style>.container { width:100% !important; }</style>\"))\n",
    "import matplotlib\n",
    "import matplotlib.pyplot as plt\n",
    "import numpy as np\n",
    "from ipywidgets import interactive, widgets\n",
    "%matplotlib inline"
   ]
  },
  {
   "cell_type": "code",
   "execution_count": 2,
   "metadata": {},
   "outputs": [],
   "source": [
    "def lscov(A, B, w=None):\n",
    "    \n",
    "    if w is None:\n",
    "        Aw = A.copy()\n",
    "        Bw = B.T.copy()\n",
    "    else:\n",
    "        W = np.sqrt(np.diag(np.array(w).flatten()))\n",
    "        Aw = np.dot(W, A)\n",
    "        Bw = np.dot(B.T, W)\n",
    "\n",
    "    x, residuals, rank, s = np.linalg.lstsq(Aw, Bw.T, rcond=1e-10)\n",
    "    return np.array(x).flatten()"
   ]
  },
  {
   "cell_type": "code",
   "execution_count": 3,
   "metadata": {},
   "outputs": [],
   "source": [
    "def fun(x):\n",
    "    y=(x[0]+x[1])**2+(x[1]+x[2])**2;\n",
    "    #y= -(2*x[0]+3*x[1]-x[0]**3-2*x[1]**2);\n",
    "    return y"
   ]
  },
  {
   "cell_type": "code",
   "execution_count": 4,
   "metadata": {},
   "outputs": [],
   "source": [
    "def func_a(fun,dk,xk,ai):\n",
    "    from numpy import asarray\n",
    "    xi=xk+asarray(dk)*ai\n",
    "    yi = fun(xi)\n",
    "    return yi"
   ]
  },
  {
   "cell_type": "code",
   "execution_count": 5,
   "metadata": {},
   "outputs": [],
   "source": [
    "def polynomial_line_search(fun,xk,dk):\n",
    "    from numpy import linspace,arange,append,transpose\n",
    "    aL=0\n",
    "    aU=2\n",
    "    aI=(aL+aU)/2\n",
    "    etol=0.00001\n",
    "    at=linspace(0,3,30)\n",
    "    yts=[]\n",
    "    k=0\n",
    "  \n",
    "    sn = arange(0, len(at), 1)\n",
    "    \n",
    "    \n",
    "    for i in sn:\n",
    "        fi = func_a(fun,dk,xk,at[i])\n",
    "        yts = append(yts,fi)\n",
    "        #print(\"yts:\"+str(yts))\n",
    "    fU=func_a(fun,dk,xk,aU)\n",
    "    fL=func_a(fun,dk,xk,aL)\n",
    "    fI=func_a(fun,dk,xk,aI)\n",
    "    a_bar_old=aL\n",
    "    #print(\"aold:\"+str(a_bar_old))\n",
    "    \n",
    "    while 1:\n",
    "        k=k+1\n",
    "        #print(\"loop \"+str(k))\n",
    "        X=[[1, aL, aL**2],[1,aU,aU**2],[1,aI,aI**2]]\n",
    "        Y=append(append(fL,fU),fI)\n",
    "        #print(\"Y: \"+str(Y))\n",
    "        a=lscov(X,Y)\n",
    "        #print(\"a:\"+str(a))\n",
    "        a0=a[0]\n",
    "        a1=a[1]\n",
    "        a2=a[2]\n",
    "        #print(\"a0: \"+str(a0)+'\\na1: '+str(a1)+'\\na2: '+str(a2))\n",
    "        a_bar_new=-a1/(2*a2)\n",
    "        #print(\"a_bar_new:\"+str(a_bar_new))\n",
    "        f_abar=func_a(fun,dk,xk,a_bar_new)\n",
    "        #print(\"f_abar:\"+str(f_abar))\n",
    "        \n",
    "        \n",
    "        if aI<a_bar_new:\n",
    "            \n",
    "            if fI<f_abar:\n",
    "                \n",
    "                aU=a_bar_new\n",
    "                fU=f_abar\n",
    "            else:\n",
    "                aL=aI\n",
    "                fL=fI\n",
    "                aI=a_bar_new\n",
    "                fI=f_abar\n",
    "                \n",
    "        else:\n",
    "            \n",
    "            \n",
    "            if fI<f_abar:\n",
    "                aL=a_bar_new\n",
    "                fL=f_abar\n",
    "            else:\n",
    "                aU=aI\n",
    "                fU=fI\n",
    "                aI=a_bar_new\n",
    "                fI=f_abar\n",
    "        \n",
    "        check=abs(a_bar_new-a_bar_old)\n",
    "        #print(\"check:\"+str(check))\n",
    "        if (check<etol):\n",
    "            break\n",
    "            \n",
    "    a_opt = a_bar_new    \n",
    "    a_bar_old = a_bar_new\n",
    "        #print(\"a_bar_old:\"+str(a_bar_old))\n",
    "    \n",
    "    \n",
    "    return a_opt\n",
    "        "
   ]
  },
  {
   "cell_type": "code",
   "execution_count": null,
   "metadata": {
    "scrolled": false
   },
   "outputs": [],
   "source": [
    "xk=[1,1,1]\n",
    "dk=[-4,-8,-4]\n",
    "polynomial_line_search(fun,xk,dk)"
   ]
  },
  {
   "cell_type": "code",
   "execution_count": null,
   "metadata": {},
   "outputs": [],
   "source": []
  },
  {
   "cell_type": "code",
   "execution_count": null,
   "metadata": {},
   "outputs": [],
   "source": []
  },
  {
   "cell_type": "code",
   "execution_count": null,
   "metadata": {},
   "outputs": [],
   "source": []
  },
  {
   "cell_type": "code",
   "execution_count": null,
   "metadata": {},
   "outputs": [],
   "source": []
  },
  {
   "cell_type": "code",
   "execution_count": null,
   "metadata": {},
   "outputs": [],
   "source": []
  },
  {
   "cell_type": "code",
   "execution_count": null,
   "metadata": {},
   "outputs": [],
   "source": []
  },
  {
   "cell_type": "code",
   "execution_count": null,
   "metadata": {},
   "outputs": [],
   "source": []
  },
  {
   "cell_type": "code",
   "execution_count": null,
   "metadata": {},
   "outputs": [],
   "source": []
  },
  {
   "cell_type": "code",
   "execution_count": null,
   "metadata": {},
   "outputs": [],
   "source": []
  },
  {
   "cell_type": "code",
   "execution_count": null,
   "metadata": {},
   "outputs": [],
   "source": []
  },
  {
   "cell_type": "code",
   "execution_count": null,
   "metadata": {},
   "outputs": [],
   "source": []
  },
  {
   "cell_type": "code",
   "execution_count": null,
   "metadata": {},
   "outputs": [],
   "source": []
  }
 ],
 "metadata": {
  "kernelspec": {
   "display_name": "Python 3",
   "language": "python",
   "name": "python3"
  },
  "language_info": {
   "codemirror_mode": {
    "name": "ipython",
    "version": 3
   },
   "file_extension": ".py",
   "mimetype": "text/x-python",
   "name": "python",
   "nbconvert_exporter": "python",
   "pygments_lexer": "ipython3",
   "version": "3.8.3"
  }
 },
 "nbformat": 4,
 "nbformat_minor": 4
}
