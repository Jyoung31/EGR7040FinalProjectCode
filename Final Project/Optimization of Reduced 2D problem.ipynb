{
 "cells": [
  {
   "cell_type": "code",
   "execution_count": null,
   "metadata": {},
   "outputs": [],
   "source": [
    "def fun_eval(xi):\n",
    "    #from numpy import Matrix\n",
    "    import math\n",
    "    rho = 1240*.2#kg/m^3\n",
    "    g=   9.81 #m/s^2\n",
    "    Patm=101325#N/m^2\n",
    "    #print('xi:\\n'+str(xi))\n",
    "    yi=(-1+(((math.pi*xi[0]**2)*(-Patm+xi[4])))/(g*rho*(math.cos(xi[0])*xi[3]*(-1.01*xi[1]**2+xi[2]**2))+(4/3)*math.pi*(-1.01*xi[1]**3+xi[2]**3)))*cos(xi[5])*sin(xi[6])\n",
    "    return -yi/9.81#dividing by 9.81 reduces answer output to g force acceleration"
   ]
  }
 ],
 "metadata": {
  "kernelspec": {
   "display_name": "Python 3",
   "language": "python",
   "name": "python3"
  },
  "language_info": {
   "codemirror_mode": {
    "name": "ipython",
    "version": 3
   },
   "file_extension": ".py",
   "mimetype": "text/x-python",
   "name": "python",
   "nbconvert_exporter": "python",
   "pygments_lexer": "ipython3",
   "version": "3.8.3"
  }
 },
 "nbformat": 4,
 "nbformat_minor": 4
}
