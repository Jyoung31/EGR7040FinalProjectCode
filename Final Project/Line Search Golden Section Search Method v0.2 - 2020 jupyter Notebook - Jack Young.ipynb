{
 "cells": [
  {
   "cell_type": "markdown",
   "metadata": {},
   "source": [
    "First, we establish the objective function we are studying as **fun**($x_{1},x_{2},x_{3}$)."
   ]
  },
  {
   "cell_type": "code",
   "execution_count": 1,
   "metadata": {},
   "outputs": [],
   "source": [
    "def fun(x):\n",
    "    from sympy import symbols\n",
    "    x1,x2,x3=symbols('x_1,x_2,x_3')\n",
    "    #y=(x[0]+x[1])**2+(x[1]+x[2])**2;\n",
    "    y=(0.5*x[0]**2)+(x[1]**2)-(x[0]*x[1])-(7*x[0])-(7*x[1])\n",
    "    return y"
   ]
  },
  {
   "cell_type": "markdown",
   "metadata": {},
   "source": [
    "Next, we establish a function_alpha which will define the path of the search function."
   ]
  },
  {
   "cell_type": "code",
   "execution_count": 2,
   "metadata": {},
   "outputs": [],
   "source": [
    "def function_alpha(fun,dk,xk,ai):\n",
    "    from numpy import asarray\n",
    "    xi=xk+asarray(dk)*ai\n",
    "    yi = fun(xi)\n",
    "    return yi"
   ]
  },
  {
   "cell_type": "markdown",
   "metadata": {},
   "source": [
    "Now, we establish the golden section search function."
   ]
  },
  {
   "cell_type": "code",
   "execution_count": 3,
   "metadata": {},
   "outputs": [],
   "source": [
    "def golden_search(fun,xk,dk,LB,UB):\n",
    "    import math\n",
    "    from numpy import arange\n",
    "    from numpy import append\n",
    "    from numpy import asarray\n",
    "    from matplotlib.pyplot import subplots,plot,show,xlabel,ylabel,legend,title,tick_params,grid,xlim,ylim,xticks,yticks   \n",
    "    from numpy import sum\n",
    "    %matplotlib inline\n",
    "    xmin=LB\n",
    "    xmax=UB    \n",
    "    delta=.0001\n",
    "    etol =.0001\n",
    "    r=(1+math.sqrt(5))/2\n",
    "    ir=1/r\n",
    "    at=arange(LB,UB,delta)\n",
    "    xas=[]\n",
    "    yts=[]\n",
    "    sn = len(at)\n",
    "    sn = arange(0, sn, 1)\n",
    "    iterations=0\n",
    "    for i in sn:\n",
    "        fi = function_alpha(fun,dk,xk,at[i])\n",
    "        yts = append(yts,fi)\n",
    "    ymin=min(yts)   \n",
    "    ymax=max(yts)\n",
    "    fig, ax = subplots()\n",
    "    CS = ax.plot(at,yts)\n",
    "    #####plotting custimization\n",
    "    grid()\n",
    "    xlabel('Search Path',fontsize=24)\n",
    "    ylabel('Objective Function Value',fontsize=24)\n",
    "    title('Objective Function Optimization with Golden Section Search',fontsize=24)\n",
    "    fig.set_size_inches(18.5, 10.5)\n",
    "    xlim(xmin,xmax)\n",
    "    #####\n",
    "    a0=delta\n",
    "    f0=function_alpha(fun,dk,xk,a0)\n",
    "    a1=delta+delta*r\n",
    "    f1=function_alpha(fun,dk,xk,a1)\n",
    "    id1=2\n",
    "    \n",
    "    plot(a0,f0,'rx',markersize=5)\n",
    "    plot(a1,f1,'rx',markersize=5)\n",
    "    \n",
    "    while 1:\n",
    "        a2 = delta*sum(r**asarray(arange(0,id1,1)))\n",
    "        f2 = function_alpha(fun,dk,xk,a2)\n",
    "        plot(a2,f2,'rx',markersize=5)\n",
    "        if (f0>f1) & (f1<f2):\n",
    "            break\n",
    "        else:\n",
    "            id1=id1+1\n",
    "            a0=a1\n",
    "            a1=a2\n",
    "            f0=f1\n",
    "            f1=f2\n",
    "    \n",
    "    \n",
    "    \n",
    "    aL=a0\n",
    "    aA=a1\n",
    "    aU=a2\n",
    "    fL=f0\n",
    "    fA=f1\n",
    "    fU=f2\n",
    "      \n",
    "    \n",
    "    Intv0=aU-aL\n",
    "    aB=aL+ir*Intv0\n",
    "    fB=function_alpha(fun,dk,xk,aB)\n",
    "    \n",
    "    plot(aL,fL,'bo',markerfacecolor=\"None\")\n",
    "    plot(aA,fA,'bo',markerfacecolor=\"None\")\n",
    "    plot(aB,fB,'bo',markerfacecolor=\"None\")\n",
    "    plot(aU,fU,'bo',markerfacecolor=\"None\")    \n",
    "            \n",
    "    while 1:\n",
    "        plot(aA,fA,'bx',markersize=5)\n",
    "        plot(aB,fB,'bx',markersize=5)\n",
    "        \n",
    "        if (fA<fB):\n",
    "            aL=aL\n",
    "            aU=aB\n",
    "            aB=aA\n",
    "            fL=fL\n",
    "            fU=fB\n",
    "            fB=fA\n",
    "            Intv1=aU-aL\n",
    "            aA=aL+(1-ir)*Intv1\n",
    "            fA=function_alpha(fun,dk,xk,aA)\n",
    "        else:\n",
    "            aL=aA\n",
    "            aU=aU\n",
    "            aA=aB\n",
    "            fL=fA\n",
    "            fU=fU\n",
    "            fA=fB\n",
    "            Intv1=aU-aL\n",
    "            aB=aL+ir*Intv1\n",
    "            fB=function_alpha(fun,dk,xk,aB)\n",
    "        if (abs(Intv1-Intv0) < etol):\n",
    "            break\n",
    "        else:\n",
    "            Intv0=Intv1\n",
    "        iterations=iterations+1\n",
    "    a_opt = (aU+aL)/2\n",
    "    plot(a_opt, min(yts), 'rx',label='optimal design point found in '+str(iterations)+' iterations',markersize=20)\n",
    "    legend(loc=0,fontsize=24)\n",
    "    f_opt = (fU+fL)/2\n",
    "    return a_opt,f_opt,iterations\n",
    "        "
   ]
  },
  {
   "cell_type": "code",
   "execution_count": 4,
   "metadata": {},
   "outputs": [],
   "source": [
    "#golden_search(fun,[1,1,1],[-4,-8,-4],.1,.5)"
   ]
  },
  {
   "cell_type": "code",
   "execution_count": null,
   "metadata": {},
   "outputs": [
    {
     "name": "stderr",
     "output_type": "stream",
     "text": [
      "<ipython-input-1-2e6642105006>:5: RuntimeWarning: overflow encountered in double_scalars\n",
      "  y=(0.5*x[0]**2)+(x[1]**2)-(x[0]*x[1])-(7*x[0])-(7*x[1])\n",
      "<ipython-input-1-2e6642105006>:5: RuntimeWarning: invalid value encountered in double_scalars\n",
      "  y=(0.5*x[0]**2)+(x[1]**2)-(x[0]*x[1])-(7*x[0])-(7*x[1])\n",
      "c:\\python38\\lib\\site-packages\\numpy\\core\\fromnumeric.py:87: RuntimeWarning: overflow encountered in reduce\n",
      "  return ufunc.reduce(obj, axis, dtype, out, **passkwargs)\n",
      "<ipython-input-3-dc31da193a50>:46: RuntimeWarning: overflow encountered in power\n",
      "  a2 = delta*sum(r**asarray(arange(0,id1,1)))\n"
     ]
    }
   ],
   "source": [
    "golden_search(fun,[1,1],[-4,-1],5,10)"
   ]
  },
  {
   "cell_type": "code",
   "execution_count": null,
   "metadata": {},
   "outputs": [],
   "source": [
    "import time\n",
    ">>> 1time.perf_counter()"
   ]
  },
  {
   "cell_type": "code",
   "execution_count": null,
   "metadata": {},
   "outputs": [],
   "source": [
    "time.perf_counter()"
   ]
  },
  {
   "cell_type": "code",
   "execution_count": null,
   "metadata": {},
   "outputs": [],
   "source": []
  },
  {
   "cell_type": "code",
   "execution_count": null,
   "metadata": {},
   "outputs": [],
   "source": []
  },
  {
   "cell_type": "code",
   "execution_count": null,
   "metadata": {},
   "outputs": [],
   "source": []
  },
  {
   "cell_type": "code",
   "execution_count": null,
   "metadata": {},
   "outputs": [],
   "source": []
  },
  {
   "cell_type": "code",
   "execution_count": null,
   "metadata": {},
   "outputs": [],
   "source": []
  },
  {
   "cell_type": "code",
   "execution_count": null,
   "metadata": {},
   "outputs": [],
   "source": []
  },
  {
   "cell_type": "code",
   "execution_count": null,
   "metadata": {},
   "outputs": [],
   "source": []
  },
  {
   "cell_type": "code",
   "execution_count": null,
   "metadata": {},
   "outputs": [],
   "source": []
  },
  {
   "cell_type": "code",
   "execution_count": null,
   "metadata": {},
   "outputs": [],
   "source": []
  },
  {
   "cell_type": "code",
   "execution_count": null,
   "metadata": {},
   "outputs": [],
   "source": []
  },
  {
   "cell_type": "code",
   "execution_count": null,
   "metadata": {},
   "outputs": [],
   "source": []
  },
  {
   "cell_type": "code",
   "execution_count": null,
   "metadata": {},
   "outputs": [],
   "source": []
  },
  {
   "cell_type": "code",
   "execution_count": null,
   "metadata": {},
   "outputs": [],
   "source": []
  },
  {
   "cell_type": "code",
   "execution_count": null,
   "metadata": {},
   "outputs": [],
   "source": []
  },
  {
   "cell_type": "code",
   "execution_count": null,
   "metadata": {},
   "outputs": [],
   "source": []
  },
  {
   "cell_type": "code",
   "execution_count": null,
   "metadata": {},
   "outputs": [],
   "source": []
  },
  {
   "cell_type": "code",
   "execution_count": null,
   "metadata": {},
   "outputs": [],
   "source": []
  },
  {
   "cell_type": "code",
   "execution_count": null,
   "metadata": {},
   "outputs": [],
   "source": []
  },
  {
   "cell_type": "code",
   "execution_count": null,
   "metadata": {},
   "outputs": [],
   "source": []
  },
  {
   "cell_type": "code",
   "execution_count": null,
   "metadata": {},
   "outputs": [],
   "source": []
  },
  {
   "cell_type": "code",
   "execution_count": null,
   "metadata": {},
   "outputs": [],
   "source": []
  },
  {
   "cell_type": "code",
   "execution_count": null,
   "metadata": {},
   "outputs": [],
   "source": []
  },
  {
   "cell_type": "code",
   "execution_count": null,
   "metadata": {},
   "outputs": [],
   "source": []
  },
  {
   "cell_type": "code",
   "execution_count": null,
   "metadata": {},
   "outputs": [],
   "source": []
  },
  {
   "cell_type": "code",
   "execution_count": null,
   "metadata": {},
   "outputs": [],
   "source": []
  },
  {
   "cell_type": "code",
   "execution_count": null,
   "metadata": {},
   "outputs": [],
   "source": []
  },
  {
   "cell_type": "code",
   "execution_count": null,
   "metadata": {},
   "outputs": [],
   "source": []
  },
  {
   "cell_type": "code",
   "execution_count": null,
   "metadata": {},
   "outputs": [],
   "source": []
  },
  {
   "cell_type": "code",
   "execution_count": null,
   "metadata": {},
   "outputs": [],
   "source": []
  },
  {
   "cell_type": "code",
   "execution_count": null,
   "metadata": {},
   "outputs": [],
   "source": []
  },
  {
   "cell_type": "code",
   "execution_count": null,
   "metadata": {},
   "outputs": [],
   "source": []
  },
  {
   "cell_type": "code",
   "execution_count": null,
   "metadata": {},
   "outputs": [],
   "source": []
  },
  {
   "cell_type": "code",
   "execution_count": null,
   "metadata": {},
   "outputs": [],
   "source": []
  },
  {
   "cell_type": "code",
   "execution_count": null,
   "metadata": {},
   "outputs": [],
   "source": []
  }
 ],
 "metadata": {
  "kernelspec": {
   "display_name": "Python 3",
   "language": "python",
   "name": "python3"
  },
  "language_info": {
   "codemirror_mode": {
    "name": "ipython",
    "version": 3
   },
   "file_extension": ".py",
   "mimetype": "text/x-python",
   "name": "python",
   "nbconvert_exporter": "python",
   "pygments_lexer": "ipython3",
   "version": "3.8.3"
  }
 },
 "nbformat": 4,
 "nbformat_minor": 4
}
